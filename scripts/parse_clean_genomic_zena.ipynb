{
 "cells": [
  {
   "attachments": {},
   "cell_type": "markdown",
   "metadata": {},
   "source": [
    "### Notebook to parse and clean the TCGA data from UCSC Xena"
   ]
  },
  {
   "cell_type": "code",
   "execution_count": 1,
   "metadata": {},
   "outputs": [],
   "source": [
    "# libraries\n",
    "import pandas as pd\n",
    "import polars as pl\n",
    "import os"
   ]
  },
  {
   "cell_type": "code",
   "execution_count": 2,
   "metadata": {},
   "outputs": [],
   "source": [
    "## directory and file names\n",
    "dir_data = '/home/ec2-user/projects/omics_analysis/data'\n",
    "\n",
    "file_tpm = dir_data + '/' + 'TcgaTargetGtex_rsem_gene_tpm.gz'\n",
    "file_tpm_txt = dir_data + '/' + 'TcgaTargetGtex_rsem_gene_tpm'\n",
    "file_tpm_pkl = dir_data + '/' + 'TcgaTargetGtex_rsem_gene_tpm.pkl'\n",
    "file_tpm_pqt = dir_data + '/' + 'TcgaTargetGtex_rsem_gene_tpm_long.parquet'\n",
    "file_phenotype = dir_data + '/' + 'TcgaTargetGTEX_phenotype.txt'\n",
    "file_category = dir_data + '/' + 'TCGA_GTEX_category.txt'\n",
    "file_probe = dir_data + '/' + 'gencode.v23.annotation.gene.probemap.tsv'\n"
   ]
  },
  {
   "attachments": {},
   "cell_type": "markdown",
   "metadata": {},
   "source": [
    "#### Read and summarize "
   ]
  },
  {
   "cell_type": "code",
   "execution_count": 3,
   "metadata": {},
   "outputs": [
    {
     "name": "stdout",
     "output_type": "stream",
     "text": [
      "(60498, 19131)\n"
     ]
    }
   ],
   "source": [
    "## tpm data\n",
    "df_tpm = pd.read_csv(file_tpm, sep='\\t', header=0, index_col=0, compression='gzip')\n",
    "print(df_tpm.shape)"
   ]
  },
  {
   "cell_type": "code",
   "execution_count": 4,
   "metadata": {},
   "outputs": [
    {
     "name": "stdout",
     "output_type": "stream",
     "text": [
      "Index(['GTEX-S4Q7-0003-SM-3NM8M', 'TCGA-19-1787-01', 'TCGA-S9-A7J2-01',\n",
      "       'GTEX-QV31-1626-SM-2S1QC', 'TCGA-G3-A3CH-11'],\n",
      "      dtype='object')\n",
      "Index(['ENSG00000242268.2', 'ENSG00000259041.1', 'ENSG00000270112.3',\n",
      "       'ENSG00000167578.16', 'ENSG00000278814.1'],\n",
      "      dtype='object', name='sample')\n"
     ]
    }
   ],
   "source": [
    "## column names and row names\n",
    "colnames = df_tpm.columns\n",
    "rownames = df_tpm.index\n",
    "\n",
    "print(colnames[0:5])\n",
    "print(rownames[0:5])\n",
    "\n",
    "\n",
    "## save tpm data as in pickle format\n",
    "df_tpm.to_pickle(file_tpm_pkl)"
   ]
  },
  {
   "attachments": {},
   "cell_type": "markdown",
   "metadata": {},
   "source": [
    "#### convert tpm wide to long format df\n"
   ]
  },
  {
   "cell_type": "code",
   "execution_count": null,
   "metadata": {},
   "outputs": [],
   "source": [
    "## read tpm data from pickle format\n",
    "df_tpm = pd.read_pickle(file_tpm_pkl)\n",
    "# df_tpm.to_pickle(file_tpm_pkl)\n",
    "\n",
    "\n",
    "# wide to long\n",
    "df_tpm_long = df_tpm.melt()"
   ]
  },
  {
   "cell_type": "markdown",
   "metadata": {},
   "source": []
  },
  {
   "cell_type": "code",
   "execution_count": 8,
   "metadata": {},
   "outputs": [
    {
     "name": "stdout",
     "output_type": "stream",
     "text": [
      "d:\\Research\\Omics\\Xena\\scripts\n"
     ]
    }
   ],
   "source": [
    "# get current working directory\n",
    "cwd = os.getcwd()\n",
    "print(cwd)\n"
   ]
  },
  {
   "attachments": {},
   "cell_type": "markdown",
   "metadata": {},
   "source": [
    "##### Read csv in polars"
   ]
  },
  {
   "cell_type": "code",
   "execution_count": 4,
   "metadata": {},
   "outputs": [],
   "source": [
    "df_pl_tpm = pl.read_csv(file_tpm, separator='\\t', low_memory=True)\n",
    "# df_pl_tpm = (pl.read_csv(file_tpm, separator='\\t', low_memory=True).melt(id_vars=['sample'], value_name='tpm'))"
   ]
  },
  {
   "cell_type": "code",
   "execution_count": 7,
   "metadata": {},
   "outputs": [
    {
     "data": {
      "text/html": [
       "<div><style>\n",
       ".dataframe > thead > tr > th,\n",
       ".dataframe > tbody > tr > td {\n",
       "  text-align: right;\n",
       "}\n",
       "</style>\n",
       "<small>shape: (5, 19132)</small><table border=\"1\" class=\"dataframe\"><thead><tr><th>sample</th><th>GTEX-S4Q7-0003-SM-3NM8M</th><th>TCGA-19-1787-01</th><th>TCGA-S9-A7J2-01</th><th>GTEX-QV31-1626-SM-2S1QC</th><th>TCGA-G3-A3CH-11</th><th>TCGA-B5-A5OE-01</th><th>GTEX-13QIC-0011-R1a-SM-5O9CJ</th><th>TCGA-B2-5641-11</th><th>GTEX-ZPCL-0126-SM-4WWC8</th><th>TARGET-20-PANGDN-09</th><th>GTEX-S33H-1226-SM-4AD69</th><th>GTEX-X88G-0426-SM-47JZ5</th><th>TCGA-C8-A1HL-01</th><th>TCGA-EW-A2FS-01</th><th>GTEX-ZAKK-0326-SM-5EGHA</th><th>GTEX-1399S-1726-SM-5L3DI</th><th>GTEX-ZF29-0926-SM-4WKFZ</th><th>TCGA-IR-A3L7-01</th><th>TCGA-05-4420-01</th><th>TCGA-91-6840-01</th><th>GTEX-13W3W-2626-SM-5SIA2</th><th>GTEX-WQUQ-2526-SM-4MVNO</th><th>TCGA-R6-A8WC-01</th><th>GTEX-P44H-0526-SM-2XCF1</th><th>TCGA-B6-A402-01</th><th>TCGA-DX-A3U8-01</th><th>TCGA-GL-8500-01</th><th>TCGA-D5-6929-01</th><th>GTEX-11ONC-2326-SM-5HL6P</th><th>GTEX-TSE9-0126-SM-3DB83</th><th>GTEX-R55F-0226-SM-48FCI</th><th>TCGA-EJ-7125-01</th><th>GTEX-13O3P-0226-SM-5KM3Z</th><th>TCGA-L5-A4OH-01</th><th>GTEX-VJYA-0005-SM-3P5ZD</th><th>TCGA-AX-A3G6-01</th><th>&hellip;</th><th>GTEX-1122O-2126-SM-5EGIR</th><th>GTEX-1313W-0011-R1b-SM-5EQ4A</th><th>GTEX-13NZA-0526-SM-5L3D7</th><th>GTEX-Y8LW-0626-SM-4VDS8</th><th>GTEX-WI4N-2026-SM-4OOS7</th><th>TCGA-BR-8588-01</th><th>GTEX-QMRM-0826-SM-3NB33</th><th>GTEX-R55E-0008-SM-48FCG</th><th>TCGA-78-7160-01</th><th>TCGA-77-6844-01</th><th>TCGA-BR-4255-01</th><th>TCGA-IN-AB1X-11</th><th>TCGA-CS-4944-01</th><th>TCGA-A2-A0YK-01</th><th>TCGA-AA-3660-01</th><th>TCGA-13-1481-01</th><th>GTEX-1399R-0426-SM-5IJE3</th><th>GTEX-YFCO-1626-SM-4W1Z3</th><th>TARGET-20-PANSJB-09</th><th>TCGA-A8-A09K-01</th><th>TCGA-HT-7603-01</th><th>TCGA-B5-A3S1-01</th><th>GTEX-OOBK-2626-SM-2HMKY</th><th>TCGA-A2-A1FV-01</th><th>GTEX-OHPJ-0006-SM-3LK6G</th><th>TCGA-95-7947-01</th><th>GTEX-1117F-2826-SM-5GZXL</th><th>TCGA-FI-A2EY-01</th><th>TCGA-55-6985-11</th><th>TCGA-EJ-5527-01</th><th>TCGA-G3-A25X-01</th><th>TCGA-24-2254-01</th><th>GTEX-11ZTS-3326-SM-5LU9Y</th><th>GTEX-VJYA-0726-SM-4KL1T</th><th>GTEX-ZA64-2126-SM-5Q5A8</th><th>GTEX-Q2AG-2826-SM-2HMJQ</th><th>GTEX-XV7Q-0426-SM-4BRVN</th></tr><tr><td>str</td><td>f64</td><td>f64</td><td>f64</td><td>f64</td><td>f64</td><td>f64</td><td>f64</td><td>f64</td><td>f64</td><td>f64</td><td>f64</td><td>f64</td><td>f64</td><td>f64</td><td>f64</td><td>f64</td><td>f64</td><td>f64</td><td>f64</td><td>f64</td><td>f64</td><td>f64</td><td>f64</td><td>f64</td><td>f64</td><td>f64</td><td>f64</td><td>f64</td><td>f64</td><td>f64</td><td>f64</td><td>f64</td><td>f64</td><td>f64</td><td>f64</td><td>f64</td><td>&hellip;</td><td>f64</td><td>f64</td><td>f64</td><td>f64</td><td>f64</td><td>f64</td><td>f64</td><td>f64</td><td>f64</td><td>f64</td><td>f64</td><td>f64</td><td>f64</td><td>f64</td><td>f64</td><td>f64</td><td>f64</td><td>f64</td><td>f64</td><td>f64</td><td>f64</td><td>f64</td><td>f64</td><td>f64</td><td>f64</td><td>f64</td><td>f64</td><td>f64</td><td>f64</td><td>f64</td><td>f64</td><td>f64</td><td>f64</td><td>f64</td><td>f64</td><td>f64</td><td>f64</td></tr></thead><tbody><tr><td>&quot;ENSG0000024226…</td><td>-3.458</td><td>-9.9658</td><td>0.2998</td><td>-9.9658</td><td>-9.9658</td><td>-9.9658</td><td>-9.9658</td><td>-9.9658</td><td>-9.9658</td><td>-9.9658</td><td>-2.7274</td><td>-3.458</td><td>-9.9658</td><td>-9.9658</td><td>-3.458</td><td>-2.5479</td><td>-2.8262</td><td>-9.9658</td><td>-9.9658</td><td>-9.9658</td><td>-9.9658</td><td>-3.6259</td><td>-9.9658</td><td>-4.035</td><td>-9.9658</td><td>-9.9658</td><td>-0.6873</td><td>-9.9658</td><td>-0.8599</td><td>-9.9658</td><td>-2.8262</td><td>-9.9658</td><td>-1.7809</td><td>-9.9658</td><td>-9.9658</td><td>-9.9658</td><td>&hellip;</td><td>-9.9658</td><td>-1.5522</td><td>-9.9658</td><td>-9.9658</td><td>-9.9658</td><td>-9.9658</td><td>-1.6394</td><td>-9.9658</td><td>-2.6349</td><td>-9.9658</td><td>-9.9658</td><td>-9.9658</td><td>-9.9658</td><td>-3.458</td><td>-9.9658</td><td>-4.6082</td><td>-1.5105</td><td>-9.9658</td><td>-9.9658</td><td>-9.9658</td><td>-9.9658</td><td>-9.9658</td><td>-2.5479</td><td>-3.3076</td><td>-9.9658</td><td>-9.9658</td><td>-3.6259</td><td>-4.035</td><td>-2.0529</td><td>-9.9658</td><td>-9.9658</td><td>-1.9379</td><td>1.5165</td><td>-9.9658</td><td>-2.3884</td><td>0.044</td><td>-3.3076</td></tr><tr><td>&quot;ENSG0000025904…</td><td>-9.9658</td><td>-9.9658</td><td>-9.9658</td><td>-9.9658</td><td>-9.9658</td><td>-9.9658</td><td>-9.9658</td><td>-9.9658</td><td>-9.9658</td><td>-9.9658</td><td>-9.9658</td><td>-9.9658</td><td>-9.9658</td><td>-9.9658</td><td>-9.9658</td><td>-9.9658</td><td>-9.9658</td><td>-9.9658</td><td>-9.9658</td><td>-9.9658</td><td>-9.9658</td><td>-9.9658</td><td>-9.9658</td><td>-9.9658</td><td>-9.9658</td><td>-9.9658</td><td>-9.9658</td><td>-9.9658</td><td>-9.9658</td><td>-9.9658</td><td>-9.9658</td><td>-9.9658</td><td>-9.9658</td><td>-9.9658</td><td>-9.9658</td><td>-9.9658</td><td>&hellip;</td><td>-9.9658</td><td>-9.9658</td><td>-9.9658</td><td>-9.9658</td><td>-9.9658</td><td>-9.9658</td><td>-9.9658</td><td>-9.9658</td><td>-9.9658</td><td>-9.9658</td><td>-9.9658</td><td>-9.9658</td><td>-9.9658</td><td>-9.9658</td><td>-9.9658</td><td>-9.9658</td><td>-9.9658</td><td>-9.9658</td><td>-9.9658</td><td>-9.9658</td><td>-9.9658</td><td>-9.9658</td><td>-9.9658</td><td>-9.9658</td><td>-9.9658</td><td>-9.9658</td><td>-9.9658</td><td>-9.9658</td><td>-9.9658</td><td>-9.9658</td><td>-9.9658</td><td>-9.9658</td><td>-9.9658</td><td>-9.9658</td><td>-9.9658</td><td>-9.9658</td><td>-9.9658</td></tr><tr><td>&quot;ENSG0000027011…</td><td>-3.6259</td><td>-3.816</td><td>-3.0469</td><td>-2.1779</td><td>-9.9658</td><td>-9.9658</td><td>-1.8314</td><td>-2.4659</td><td>-9.9658</td><td>-9.9658</td><td>-9.9658</td><td>-3.1714</td><td>-9.9658</td><td>-5.0116</td><td>-1.2481</td><td>-6.5064</td><td>-9.9658</td><td>-9.9658</td><td>-9.9658</td><td>-9.9658</td><td>-0.5332</td><td>-9.9658</td><td>-6.5064</td><td>-6.5064</td><td>-9.9658</td><td>-9.9658</td><td>-9.9658</td><td>-9.9658</td><td>-9.9658</td><td>-5.5735</td><td>-5.5735</td><td>-6.5064</td><td>-6.5064</td><td>-4.6082</td><td>-9.9658</td><td>-9.9658</td><td>&hellip;</td><td>-9.9658</td><td>0.688</td><td>-0.7834</td><td>-6.5064</td><td>-9.9658</td><td>-9.9658</td><td>-9.9658</td><td>-9.9658</td><td>-9.9658</td><td>-9.9658</td><td>-9.9658</td><td>-9.9658</td><td>-4.2934</td><td>-5.0116</td><td>-9.9658</td><td>-4.6082</td><td>-3.3076</td><td>-1.9942</td><td>-9.9658</td><td>-9.9658</td><td>1.0642</td><td>-5.5735</td><td>-9.9658</td><td>-5.5735</td><td>-9.9658</td><td>-6.5064</td><td>-9.9658</td><td>-3.1714</td><td>-4.2934</td><td>-9.9658</td><td>-9.9658</td><td>-5.5735</td><td>-2.9324</td><td>-9.9658</td><td>-9.9658</td><td>2.5852</td><td>-3.0469</td></tr><tr><td>&quot;ENSG0000016757…</td><td>4.5988</td><td>5.2998</td><td>4.8881</td><td>4.6294</td><td>3.5572</td><td>5.0858</td><td>6.4989</td><td>4.6317</td><td>5.5358</td><td>4.1376</td><td>3.7269</td><td>5.5696</td><td>4.9782</td><td>5.7035</td><td>3.0181</td><td>5.8726</td><td>4.6201</td><td>4.8827</td><td>4.2048</td><td>5.9248</td><td>3.4583</td><td>5.2126</td><td>3.8581</td><td>5.6801</td><td>4.1252</td><td>5.4916</td><td>4.5142</td><td>5.0786</td><td>5.8286</td><td>3.9929</td><td>6.2578</td><td>5.3162</td><td>5.2083</td><td>5.1235</td><td>5.1194</td><td>5.615</td><td>&hellip;</td><td>4.562</td><td>6.1258</td><td>2.5972</td><td>4.8758</td><td>2.0844</td><td>3.9599</td><td>5.7785</td><td>4.1498</td><td>5.3064</td><td>5.2308</td><td>3.913721</td><td>4.1044</td><td>6.6567</td><td>4.9626</td><td>4.8739</td><td>4.6955</td><td>2.9356</td><td>5.0041</td><td>4.4476</td><td>5.5364</td><td>6.856</td><td>4.2373</td><td>5.7181</td><td>3.9728</td><td>5.1811</td><td>6.1607</td><td>4.9402</td><td>4.7253</td><td>5.4206</td><td>4.4771</td><td>5.2627</td><td>5.076</td><td>6.0809</td><td>4.741</td><td>5.3212</td><td>5.811</td><td>5.9132</td></tr><tr><td>&quot;ENSG0000027881…</td><td>-9.9658</td><td>-9.9658</td><td>-9.9658</td><td>-9.9658</td><td>-9.9658</td><td>-9.9658</td><td>-9.9658</td><td>-9.9658</td><td>-9.9658</td><td>-9.9658</td><td>-9.9658</td><td>-9.9658</td><td>-9.9658</td><td>-9.9658</td><td>-9.9658</td><td>-9.9658</td><td>-9.9658</td><td>-9.9658</td><td>-9.9658</td><td>-9.9658</td><td>-9.9658</td><td>-9.9658</td><td>-9.9658</td><td>-9.9658</td><td>-9.9658</td><td>-9.9658</td><td>-9.9658</td><td>-9.9658</td><td>-9.9658</td><td>-9.9658</td><td>-9.9658</td><td>-9.9658</td><td>-9.9658</td><td>-9.9658</td><td>-9.9658</td><td>-9.9658</td><td>&hellip;</td><td>-9.9658</td><td>-9.9658</td><td>-9.9658</td><td>-9.9658</td><td>-9.9658</td><td>-9.9658</td><td>-9.9658</td><td>-9.9658</td><td>-9.9658</td><td>-9.9658</td><td>-9.9658</td><td>-9.9658</td><td>-9.9658</td><td>-9.9658</td><td>-9.9658</td><td>-9.9658</td><td>-9.9658</td><td>-9.9658</td><td>-9.9658</td><td>-9.9658</td><td>-9.9658</td><td>-9.9658</td><td>-9.9658</td><td>-9.9658</td><td>-9.9658</td><td>-9.9658</td><td>-9.9658</td><td>-9.9658</td><td>-9.9658</td><td>-9.9658</td><td>-9.9658</td><td>-9.9658</td><td>-9.9658</td><td>-9.9658</td><td>-9.9658</td><td>-9.9658</td><td>-9.9658</td></tr></tbody></table></div>"
      ],
      "text/plain": [
       "shape: (5, 19_132)\n",
       "┌───┬────────────┬────────────┬────────────┬───┬────────────┬────────────┬────────────┬────────────┐\n",
       "│ s ┆ GTEX-S4Q7- ┆ TCGA-19-17 ┆ TCGA-S9-A7 ┆ … ┆ GTEX-VJYA- ┆ GTEX-ZA64- ┆ GTEX-Q2AG- ┆ GTEX-XV7Q- │\n",
       "│ a ┆ 0003-SM-3N ┆ 87-01      ┆ J2-01      ┆   ┆ 0726-SM-4K ┆ 2126-SM-5Q ┆ 2826-SM-2H ┆ 0426-SM-4B │\n",
       "│ m ┆ M8M        ┆ ---        ┆ ---        ┆   ┆ L1T        ┆ 5A8        ┆ MJQ        ┆ RVN        │\n",
       "│ p ┆ ---        ┆ f64        ┆ f64        ┆   ┆ ---        ┆ ---        ┆ ---        ┆ ---        │\n",
       "│ l ┆ f64        ┆            ┆            ┆   ┆ f64        ┆ f64        ┆ f64        ┆ f64        │\n",
       "│ e ┆            ┆            ┆            ┆   ┆            ┆            ┆            ┆            │\n",
       "│ - ┆            ┆            ┆            ┆   ┆            ┆            ┆            ┆            │\n",
       "│ - ┆            ┆            ┆            ┆   ┆            ┆            ┆            ┆            │\n",
       "│ - ┆            ┆            ┆            ┆   ┆            ┆            ┆            ┆            │\n",
       "│ s ┆            ┆            ┆            ┆   ┆            ┆            ┆            ┆            │\n",
       "│ t ┆            ┆            ┆            ┆   ┆            ┆            ┆            ┆            │\n",
       "│ r ┆            ┆            ┆            ┆   ┆            ┆            ┆            ┆            │\n",
       "╞═══╪════════════╪════════════╪════════════╪═══╪════════════╪════════════╪════════════╪════════════╡\n",
       "│ E ┆ -3.458     ┆ -9.9658    ┆ 0.2998     ┆ … ┆ -9.9658    ┆ -2.3884    ┆ 0.044      ┆ -3.3076    │\n",
       "│ N ┆            ┆            ┆            ┆   ┆            ┆            ┆            ┆            │\n",
       "│ S ┆            ┆            ┆            ┆   ┆            ┆            ┆            ┆            │\n",
       "│ G ┆            ┆            ┆            ┆   ┆            ┆            ┆            ┆            │\n",
       "│ 0 ┆            ┆            ┆            ┆   ┆            ┆            ┆            ┆            │\n",
       "│ 0 ┆            ┆            ┆            ┆   ┆            ┆            ┆            ┆            │\n",
       "│ 0 ┆            ┆            ┆            ┆   ┆            ┆            ┆            ┆            │\n",
       "│ 0 ┆            ┆            ┆            ┆   ┆            ┆            ┆            ┆            │\n",
       "│ 0 ┆            ┆            ┆            ┆   ┆            ┆            ┆            ┆            │\n",
       "│ 2 ┆            ┆            ┆            ┆   ┆            ┆            ┆            ┆            │\n",
       "│ 4 ┆            ┆            ┆            ┆   ┆            ┆            ┆            ┆            │\n",
       "│ 2 ┆            ┆            ┆            ┆   ┆            ┆            ┆            ┆            │\n",
       "│ 2 ┆            ┆            ┆            ┆   ┆            ┆            ┆            ┆            │\n",
       "│ 6 ┆            ┆            ┆            ┆   ┆            ┆            ┆            ┆            │\n",
       "│ 8 ┆            ┆            ┆            ┆   ┆            ┆            ┆            ┆            │\n",
       "│ . ┆            ┆            ┆            ┆   ┆            ┆            ┆            ┆            │\n",
       "│ 2 ┆            ┆            ┆            ┆   ┆            ┆            ┆            ┆            │\n",
       "│ E ┆ -9.9658    ┆ -9.9658    ┆ -9.9658    ┆ … ┆ -9.9658    ┆ -9.9658    ┆ -9.9658    ┆ -9.9658    │\n",
       "│ N ┆            ┆            ┆            ┆   ┆            ┆            ┆            ┆            │\n",
       "│ S ┆            ┆            ┆            ┆   ┆            ┆            ┆            ┆            │\n",
       "│ G ┆            ┆            ┆            ┆   ┆            ┆            ┆            ┆            │\n",
       "│ 0 ┆            ┆            ┆            ┆   ┆            ┆            ┆            ┆            │\n",
       "│ 0 ┆            ┆            ┆            ┆   ┆            ┆            ┆            ┆            │\n",
       "│ 0 ┆            ┆            ┆            ┆   ┆            ┆            ┆            ┆            │\n",
       "│ 0 ┆            ┆            ┆            ┆   ┆            ┆            ┆            ┆            │\n",
       "│ 0 ┆            ┆            ┆            ┆   ┆            ┆            ┆            ┆            │\n",
       "│ 2 ┆            ┆            ┆            ┆   ┆            ┆            ┆            ┆            │\n",
       "│ 5 ┆            ┆            ┆            ┆   ┆            ┆            ┆            ┆            │\n",
       "│ 9 ┆            ┆            ┆            ┆   ┆            ┆            ┆            ┆            │\n",
       "│ 0 ┆            ┆            ┆            ┆   ┆            ┆            ┆            ┆            │\n",
       "│ 4 ┆            ┆            ┆            ┆   ┆            ┆            ┆            ┆            │\n",
       "│ 1 ┆            ┆            ┆            ┆   ┆            ┆            ┆            ┆            │\n",
       "│ . ┆            ┆            ┆            ┆   ┆            ┆            ┆            ┆            │\n",
       "│ 1 ┆            ┆            ┆            ┆   ┆            ┆            ┆            ┆            │\n",
       "│ E ┆ -3.6259    ┆ -3.816     ┆ -3.0469    ┆ … ┆ -9.9658    ┆ -9.9658    ┆ 2.5852     ┆ -3.0469    │\n",
       "│ N ┆            ┆            ┆            ┆   ┆            ┆            ┆            ┆            │\n",
       "│ S ┆            ┆            ┆            ┆   ┆            ┆            ┆            ┆            │\n",
       "│ G ┆            ┆            ┆            ┆   ┆            ┆            ┆            ┆            │\n",
       "│ 0 ┆            ┆            ┆            ┆   ┆            ┆            ┆            ┆            │\n",
       "│ 0 ┆            ┆            ┆            ┆   ┆            ┆            ┆            ┆            │\n",
       "│ 0 ┆            ┆            ┆            ┆   ┆            ┆            ┆            ┆            │\n",
       "│ 0 ┆            ┆            ┆            ┆   ┆            ┆            ┆            ┆            │\n",
       "│ 0 ┆            ┆            ┆            ┆   ┆            ┆            ┆            ┆            │\n",
       "│ 2 ┆            ┆            ┆            ┆   ┆            ┆            ┆            ┆            │\n",
       "│ 7 ┆            ┆            ┆            ┆   ┆            ┆            ┆            ┆            │\n",
       "│ 0 ┆            ┆            ┆            ┆   ┆            ┆            ┆            ┆            │\n",
       "│ 1 ┆            ┆            ┆            ┆   ┆            ┆            ┆            ┆            │\n",
       "│ 1 ┆            ┆            ┆            ┆   ┆            ┆            ┆            ┆            │\n",
       "│ 2 ┆            ┆            ┆            ┆   ┆            ┆            ┆            ┆            │\n",
       "│ . ┆            ┆            ┆            ┆   ┆            ┆            ┆            ┆            │\n",
       "│ 3 ┆            ┆            ┆            ┆   ┆            ┆            ┆            ┆            │\n",
       "│ E ┆ 4.5988     ┆ 5.2998     ┆ 4.8881     ┆ … ┆ 4.741      ┆ 5.3212     ┆ 5.811      ┆ 5.9132     │\n",
       "│ N ┆            ┆            ┆            ┆   ┆            ┆            ┆            ┆            │\n",
       "│ S ┆            ┆            ┆            ┆   ┆            ┆            ┆            ┆            │\n",
       "│ G ┆            ┆            ┆            ┆   ┆            ┆            ┆            ┆            │\n",
       "│ 0 ┆            ┆            ┆            ┆   ┆            ┆            ┆            ┆            │\n",
       "│ 0 ┆            ┆            ┆            ┆   ┆            ┆            ┆            ┆            │\n",
       "│ 0 ┆            ┆            ┆            ┆   ┆            ┆            ┆            ┆            │\n",
       "│ 0 ┆            ┆            ┆            ┆   ┆            ┆            ┆            ┆            │\n",
       "│ 0 ┆            ┆            ┆            ┆   ┆            ┆            ┆            ┆            │\n",
       "│ 1 ┆            ┆            ┆            ┆   ┆            ┆            ┆            ┆            │\n",
       "│ 6 ┆            ┆            ┆            ┆   ┆            ┆            ┆            ┆            │\n",
       "│ 7 ┆            ┆            ┆            ┆   ┆            ┆            ┆            ┆            │\n",
       "│ 5 ┆            ┆            ┆            ┆   ┆            ┆            ┆            ┆            │\n",
       "│ 7 ┆            ┆            ┆            ┆   ┆            ┆            ┆            ┆            │\n",
       "│ 8 ┆            ┆            ┆            ┆   ┆            ┆            ┆            ┆            │\n",
       "│ . ┆            ┆            ┆            ┆   ┆            ┆            ┆            ┆            │\n",
       "│ 1 ┆            ┆            ┆            ┆   ┆            ┆            ┆            ┆            │\n",
       "│ 6 ┆            ┆            ┆            ┆   ┆            ┆            ┆            ┆            │\n",
       "│ E ┆ -9.9658    ┆ -9.9658    ┆ -9.9658    ┆ … ┆ -9.9658    ┆ -9.9658    ┆ -9.9658    ┆ -9.9658    │\n",
       "│ N ┆            ┆            ┆            ┆   ┆            ┆            ┆            ┆            │\n",
       "│ S ┆            ┆            ┆            ┆   ┆            ┆            ┆            ┆            │\n",
       "│ G ┆            ┆            ┆            ┆   ┆            ┆            ┆            ┆            │\n",
       "│ 0 ┆            ┆            ┆            ┆   ┆            ┆            ┆            ┆            │\n",
       "│ 0 ┆            ┆            ┆            ┆   ┆            ┆            ┆            ┆            │\n",
       "│ 0 ┆            ┆            ┆            ┆   ┆            ┆            ┆            ┆            │\n",
       "│ 0 ┆            ┆            ┆            ┆   ┆            ┆            ┆            ┆            │\n",
       "│ 0 ┆            ┆            ┆            ┆   ┆            ┆            ┆            ┆            │\n",
       "│ 2 ┆            ┆            ┆            ┆   ┆            ┆            ┆            ┆            │\n",
       "│ 7 ┆            ┆            ┆            ┆   ┆            ┆            ┆            ┆            │\n",
       "│ 8 ┆            ┆            ┆            ┆   ┆            ┆            ┆            ┆            │\n",
       "│ 8 ┆            ┆            ┆            ┆   ┆            ┆            ┆            ┆            │\n",
       "│ 1 ┆            ┆            ┆            ┆   ┆            ┆            ┆            ┆            │\n",
       "│ 4 ┆            ┆            ┆            ┆   ┆            ┆            ┆            ┆            │\n",
       "│ . ┆            ┆            ┆            ┆   ┆            ┆            ┆            ┆            │\n",
       "│ 1 ┆            ┆            ┆            ┆   ┆            ┆            ┆            ┆            │\n",
       "└───┴────────────┴────────────┴────────────┴───┴────────────┴────────────┴────────────┴────────────┘"
      ]
     },
     "execution_count": 7,
     "metadata": {},
     "output_type": "execute_result"
    }
   ],
   "source": [
    "df_pl_tpm.head()"
   ]
  },
  {
   "cell_type": "code",
   "execution_count": 8,
   "metadata": {},
   "outputs": [
    {
     "data": {
      "text/html": [
       "<div><style>\n",
       ".dataframe > thead > tr > th,\n",
       ".dataframe > tbody > tr > td {\n",
       "  text-align: right;\n",
       "}\n",
       "</style>\n",
       "<small>shape: (95655, 3)</small><table border=\"1\" class=\"dataframe\"><thead><tr><th>sample</th><th>variable</th><th>tpm</th></tr><tr><td>str</td><td>str</td><td>f64</td></tr></thead><tbody><tr><td>&quot;ENSG0000024226…</td><td>&quot;GTEX-S4Q7-0003…</td><td>-3.458</td></tr><tr><td>&quot;ENSG0000025904…</td><td>&quot;GTEX-S4Q7-0003…</td><td>-9.9658</td></tr><tr><td>&quot;ENSG0000027011…</td><td>&quot;GTEX-S4Q7-0003…</td><td>-3.6259</td></tr><tr><td>&quot;ENSG0000016757…</td><td>&quot;GTEX-S4Q7-0003…</td><td>4.5988</td></tr><tr><td>&quot;ENSG0000027881…</td><td>&quot;GTEX-S4Q7-0003…</td><td>-9.9658</td></tr><tr><td>&quot;ENSG0000024226…</td><td>&quot;TCGA-19-1787-0…</td><td>-9.9658</td></tr><tr><td>&quot;ENSG0000025904…</td><td>&quot;TCGA-19-1787-0…</td><td>-9.9658</td></tr><tr><td>&quot;ENSG0000027011…</td><td>&quot;TCGA-19-1787-0…</td><td>-3.816</td></tr><tr><td>&quot;ENSG0000016757…</td><td>&quot;TCGA-19-1787-0…</td><td>5.2998</td></tr><tr><td>&quot;ENSG0000027881…</td><td>&quot;TCGA-19-1787-0…</td><td>-9.9658</td></tr><tr><td>&quot;ENSG0000024226…</td><td>&quot;TCGA-S9-A7J2-0…</td><td>0.2998</td></tr><tr><td>&quot;ENSG0000025904…</td><td>&quot;TCGA-S9-A7J2-0…</td><td>-9.9658</td></tr><tr><td>&hellip;</td><td>&hellip;</td><td>&hellip;</td></tr><tr><td>&quot;ENSG0000016757…</td><td>&quot;GTEX-ZA64-2126…</td><td>5.3212</td></tr><tr><td>&quot;ENSG0000027881…</td><td>&quot;GTEX-ZA64-2126…</td><td>-9.9658</td></tr><tr><td>&quot;ENSG0000024226…</td><td>&quot;GTEX-Q2AG-2826…</td><td>0.044</td></tr><tr><td>&quot;ENSG0000025904…</td><td>&quot;GTEX-Q2AG-2826…</td><td>-9.9658</td></tr><tr><td>&quot;ENSG0000027011…</td><td>&quot;GTEX-Q2AG-2826…</td><td>2.5852</td></tr><tr><td>&quot;ENSG0000016757…</td><td>&quot;GTEX-Q2AG-2826…</td><td>5.811</td></tr><tr><td>&quot;ENSG0000027881…</td><td>&quot;GTEX-Q2AG-2826…</td><td>-9.9658</td></tr><tr><td>&quot;ENSG0000024226…</td><td>&quot;GTEX-XV7Q-0426…</td><td>-3.3076</td></tr><tr><td>&quot;ENSG0000025904…</td><td>&quot;GTEX-XV7Q-0426…</td><td>-9.9658</td></tr><tr><td>&quot;ENSG0000027011…</td><td>&quot;GTEX-XV7Q-0426…</td><td>-3.0469</td></tr><tr><td>&quot;ENSG0000016757…</td><td>&quot;GTEX-XV7Q-0426…</td><td>5.9132</td></tr><tr><td>&quot;ENSG0000027881…</td><td>&quot;GTEX-XV7Q-0426…</td><td>-9.9658</td></tr></tbody></table></div>"
      ],
      "text/plain": [
       "shape: (95_655, 3)\n",
       "┌────────────────────┬─────────────────────────┬─────────┐\n",
       "│ sample             ┆ variable                ┆ tpm     │\n",
       "│ ---                ┆ ---                     ┆ ---     │\n",
       "│ str                ┆ str                     ┆ f64     │\n",
       "╞════════════════════╪═════════════════════════╪═════════╡\n",
       "│ ENSG00000242268.2  ┆ GTEX-S4Q7-0003-SM-3NM8M ┆ -3.458  │\n",
       "│ ENSG00000259041.1  ┆ GTEX-S4Q7-0003-SM-3NM8M ┆ -9.9658 │\n",
       "│ ENSG00000270112.3  ┆ GTEX-S4Q7-0003-SM-3NM8M ┆ -3.6259 │\n",
       "│ ENSG00000167578.16 ┆ GTEX-S4Q7-0003-SM-3NM8M ┆ 4.5988  │\n",
       "│ …                  ┆ …                       ┆ …       │\n",
       "│ ENSG00000259041.1  ┆ GTEX-XV7Q-0426-SM-4BRVN ┆ -9.9658 │\n",
       "│ ENSG00000270112.3  ┆ GTEX-XV7Q-0426-SM-4BRVN ┆ -3.0469 │\n",
       "│ ENSG00000167578.16 ┆ GTEX-XV7Q-0426-SM-4BRVN ┆ 5.9132  │\n",
       "│ ENSG00000278814.1  ┆ GTEX-XV7Q-0426-SM-4BRVN ┆ -9.9658 │\n",
       "└────────────────────┴─────────────────────────┴─────────┘"
      ]
     },
     "execution_count": 8,
     "metadata": {},
     "output_type": "execute_result"
    }
   ],
   "source": [
    "(df_pl_tpm.head().melt(id_vars=['sample'], value_name='tpm'))"
   ]
  },
  {
   "cell_type": "code",
   "execution_count": 5,
   "metadata": {},
   "outputs": [],
   "source": [
    "### polars read csv file with scan_csv in lazy mode, melt and sink to parquet\n",
    "\n",
    "df_pl_tpm = (pl.scan_csv(file_tpm_txt, separator='\\t', low_memory=True)\n",
    "            .melt(id_vars=['sample'], value_name='tpm')\n",
    "            # .collect(streaming=True))\n",
    "            .sink_parquet(\"file_tpm_pqt.parquet\"))\n"
   ]
  },
  {
   "cell_type": "code",
   "execution_count": 7,
   "metadata": {},
   "outputs": [
    {
     "data": {
      "text/html": [
       "<div><style>\n",
       ".dataframe > thead > tr > th,\n",
       ".dataframe > tbody > tr > td {\n",
       "  text-align: right;\n",
       "}\n",
       "</style>\n",
       "<small>shape: (5, 3)</small><table border=\"1\" class=\"dataframe\"><thead><tr><th>sample</th><th>variable</th><th>tpm</th></tr><tr><td>str</td><td>str</td><td>f64</td></tr></thead><tbody><tr><td>&quot;ENSG0000024226…</td><td>&quot;GTEX-S4Q7-0003…</td><td>-3.458</td></tr><tr><td>&quot;ENSG0000025904…</td><td>&quot;GTEX-S4Q7-0003…</td><td>-9.9658</td></tr><tr><td>&quot;ENSG0000027011…</td><td>&quot;GTEX-S4Q7-0003…</td><td>-3.6259</td></tr><tr><td>&quot;ENSG0000016757…</td><td>&quot;GTEX-S4Q7-0003…</td><td>4.5988</td></tr><tr><td>&quot;ENSG0000027881…</td><td>&quot;GTEX-S4Q7-0003…</td><td>-9.9658</td></tr></tbody></table></div>"
      ],
      "text/plain": [
       "shape: (5, 3)\n",
       "┌────────────────────┬─────────────────────────┬─────────┐\n",
       "│ sample             ┆ variable                ┆ tpm     │\n",
       "│ ---                ┆ ---                     ┆ ---     │\n",
       "│ str                ┆ str                     ┆ f64     │\n",
       "╞════════════════════╪═════════════════════════╪═════════╡\n",
       "│ ENSG00000242268.2  ┆ GTEX-S4Q7-0003-SM-3NM8M ┆ -3.458  │\n",
       "│ ENSG00000259041.1  ┆ GTEX-S4Q7-0003-SM-3NM8M ┆ -9.9658 │\n",
       "│ ENSG00000270112.3  ┆ GTEX-S4Q7-0003-SM-3NM8M ┆ -3.6259 │\n",
       "│ ENSG00000167578.16 ┆ GTEX-S4Q7-0003-SM-3NM8M ┆ 4.5988  │\n",
       "│ ENSG00000278814.1  ┆ GTEX-S4Q7-0003-SM-3NM8M ┆ -9.9658 │\n",
       "└────────────────────┴─────────────────────────┴─────────┘"
      ]
     },
     "execution_count": 7,
     "metadata": {},
     "output_type": "execute_result"
    }
   ],
   "source": [
    "## read parket file and show the first 5 rows\n",
    "df_parquet_tpm = pl.scan_parquet(\"file_tpm_pqt.parquet\").head()\n",
    "df_parquet_tpm.collect()\n"
   ]
  },
  {
   "attachments": {},
   "cell_type": "markdown",
   "metadata": {},
   "source": [
    "##### Parse and format annotation and sample information"
   ]
  },
  {
   "cell_type": "code",
   "execution_count": 13,
   "metadata": {},
   "outputs": [
    {
     "name": "stdout",
     "output_type": "stream",
     "text": [
      "/home/ec2-user/projects/omics_analysis/data/TcgaTargetGTEX_phenotype.txt.gz\n"
     ]
    }
   ],
   "source": [
    "# file_phenotype = dir_data + '/' + 'TcgaTargetGtex_phenotype.txt'\n",
    "# file_category = dir_data + '/' + 'TCGA_GTEX_category.txt'\n",
    "# file_probe = dir_data + '/' + 'gencode.v23.annotation.gene.probemap.tsv'\n",
    "\n",
    "print(file_phenotype)\n",
    "# data/TcgaTargetGTEX_phenotype.txt.gz\n",
    "\n",
    "\n",
    "\n",
    "# : with open('test_original.csv', 'r', encoding='big5') as fh:\n",
    "#     ...:     df = pl.read_csv(fh.read().encode('utf-8'))"
   ]
  },
  {
   "cell_type": "code",
   "execution_count": 6,
   "metadata": {},
   "outputs": [],
   "source": [
    "## phenotype data\n",
    "with open(file_phenotype, 'r', encoding='big5') as fh:\n",
    "    df_phenotype = pl.read_csv(fh.read().encode('utf-8'),separator='\\t', low_memory=True).lazy()\n",
    "\n",
    "# df_phenotype = (pl.scan_csv(file_phenotype, separator='\\t', low_memory=True)\n",
    "#             .collect(streaming=True))\n",
    "\n",
    "\n",
    "## category data\n",
    "df_category = (pl.scan_csv(file_category, separator='\\t', low_memory=True)\n",
    "            .collect(streaming=True))\n",
    "\n",
    "## probe data\n",
    "df_probe = (pl.scan_csv(file_probe, separator='\\t', low_memory=True)\n",
    "            .collect(streaming=True))"
   ]
  },
  {
   "cell_type": "code",
   "execution_count": 18,
   "metadata": {},
   "outputs": [
    {
     "data": {
      "text/html": [
       "<div><style>\n",
       ".dataframe > thead > tr > th,\n",
       ".dataframe > tbody > tr > td {\n",
       "  text-align: right;\n",
       "}\n",
       "</style>\n",
       "<small>shape: (5, 7)</small><table border=\"1\" class=\"dataframe\"><thead><tr><th>sample</th><th>detailed_category</th><th>primary disease or tissue</th><th>_primary_site</th><th>_sample_type</th><th>_gender</th><th>_study</th></tr><tr><td>str</td><td>str</td><td>str</td><td>str</td><td>str</td><td>str</td><td>str</td></tr></thead><tbody><tr><td>&quot;TCGA-V4-A9EE-0…</td><td>&quot;Uveal Melanoma…</td><td>&quot;Uveal Melanoma…</td><td>&quot;Eye&quot;</td><td>&quot;Primary Tumor&quot;</td><td>&quot;Male&quot;</td><td>&quot;TCGA&quot;</td></tr><tr><td>&quot;TCGA-VD-AA8N-0…</td><td>&quot;Uveal Melanoma…</td><td>&quot;Uveal Melanoma…</td><td>&quot;Eye&quot;</td><td>&quot;Primary Tumor&quot;</td><td>&quot;Male&quot;</td><td>&quot;TCGA&quot;</td></tr><tr><td>&quot;TCGA-V4-A9EI-0…</td><td>&quot;Uveal Melanoma…</td><td>&quot;Uveal Melanoma…</td><td>&quot;Eye&quot;</td><td>&quot;Primary Tumor&quot;</td><td>&quot;Male&quot;</td><td>&quot;TCGA&quot;</td></tr><tr><td>&quot;TCGA-VD-AA8O-0…</td><td>&quot;Uveal Melanoma…</td><td>&quot;Uveal Melanoma…</td><td>&quot;Eye&quot;</td><td>&quot;Primary Tumor&quot;</td><td>&quot;Male&quot;</td><td>&quot;TCGA&quot;</td></tr><tr><td>&quot;TCGA-WC-A888-0…</td><td>&quot;Uveal Melanoma…</td><td>&quot;Uveal Melanoma…</td><td>&quot;Eye&quot;</td><td>&quot;Primary Tumor&quot;</td><td>&quot;Male&quot;</td><td>&quot;TCGA&quot;</td></tr></tbody></table></div>"
      ],
      "text/plain": [
       "shape: (5, 7)\n",
       "┌─────────────────┬────────────────┬────────────┬───────────────┬───────────────┬─────────┬────────┐\n",
       "│ sample          ┆ detailed_categ ┆ primary    ┆ _primary_site ┆ _sample_type  ┆ _gender ┆ _study │\n",
       "│ ---             ┆ ory            ┆ disease or ┆ ---           ┆ ---           ┆ ---     ┆ ---    │\n",
       "│ str             ┆ ---            ┆ tissue     ┆ str           ┆ str           ┆ str     ┆ str    │\n",
       "│                 ┆ str            ┆ ---        ┆               ┆               ┆         ┆        │\n",
       "│                 ┆                ┆ str        ┆               ┆               ┆         ┆        │\n",
       "╞═════════════════╪════════════════╪════════════╪═══════════════╪═══════════════╪═════════╪════════╡\n",
       "│ TCGA-V4-A9EE-01 ┆ Uveal Melanoma ┆ Uveal      ┆ Eye           ┆ Primary Tumor ┆ Male    ┆ TCGA   │\n",
       "│                 ┆                ┆ Melanoma   ┆               ┆               ┆         ┆        │\n",
       "│ TCGA-VD-AA8N-01 ┆ Uveal Melanoma ┆ Uveal      ┆ Eye           ┆ Primary Tumor ┆ Male    ┆ TCGA   │\n",
       "│                 ┆                ┆ Melanoma   ┆               ┆               ┆         ┆        │\n",
       "│ TCGA-V4-A9EI-01 ┆ Uveal Melanoma ┆ Uveal      ┆ Eye           ┆ Primary Tumor ┆ Male    ┆ TCGA   │\n",
       "│                 ┆                ┆ Melanoma   ┆               ┆               ┆         ┆        │\n",
       "│ TCGA-VD-AA8O-01 ┆ Uveal Melanoma ┆ Uveal      ┆ Eye           ┆ Primary Tumor ┆ Male    ┆ TCGA   │\n",
       "│                 ┆                ┆ Melanoma   ┆               ┆               ┆         ┆        │\n",
       "│ TCGA-WC-A888-01 ┆ Uveal Melanoma ┆ Uveal      ┆ Eye           ┆ Primary Tumor ┆ Male    ┆ TCGA   │\n",
       "│                 ┆                ┆ Melanoma   ┆               ┆               ┆         ┆        │\n",
       "└─────────────────┴────────────────┴────────────┴───────────────┴───────────────┴─────────┴────────┘"
      ]
     },
     "execution_count": 18,
     "metadata": {},
     "output_type": "execute_result"
    }
   ],
   "source": [
    "df_phenotype.head()"
   ]
  },
  {
   "cell_type": "code",
   "execution_count": 19,
   "metadata": {},
   "outputs": [
    {
     "data": {
      "text/html": [
       "<div><style>\n",
       ".dataframe > thead > tr > th,\n",
       ".dataframe > tbody > tr > td {\n",
       "  text-align: right;\n",
       "}\n",
       "</style>\n",
       "<small>shape: (5, 2)</small><table border=\"1\" class=\"dataframe\"><thead><tr><th>sample</th><th>TCGA_GTEX_main_category</th></tr><tr><td>str</td><td>str</td></tr></thead><tbody><tr><td>&quot;GTEX-1117F-242…</td><td>&quot;GTEX Uterus&quot;</td></tr><tr><td>&quot;GTEX-113JC-222…</td><td>&quot;GTEX Uterus&quot;</td></tr><tr><td>&quot;GTEX-11DXX-152…</td><td>&quot;GTEX Uterus&quot;</td></tr><tr><td>&quot;GTEX-11EM3-192…</td><td>&quot;GTEX Uterus&quot;</td></tr><tr><td>&quot;GTEX-11I78-212…</td><td>&quot;GTEX Uterus&quot;</td></tr></tbody></table></div>"
      ],
      "text/plain": [
       "shape: (5, 2)\n",
       "┌──────────────────────────┬─────────────────────────┐\n",
       "│ sample                   ┆ TCGA_GTEX_main_category │\n",
       "│ ---                      ┆ ---                     │\n",
       "│ str                      ┆ str                     │\n",
       "╞══════════════════════════╪═════════════════════════╡\n",
       "│ GTEX-1117F-2426-SM-5EGGH ┆ GTEX Uterus             │\n",
       "│ GTEX-113JC-2226-SM-5EGJG ┆ GTEX Uterus             │\n",
       "│ GTEX-11DXX-1526-SM-5H115 ┆ GTEX Uterus             │\n",
       "│ GTEX-11EM3-1926-SM-5987U ┆ GTEX Uterus             │\n",
       "│ GTEX-11I78-2126-SM-5A5K8 ┆ GTEX Uterus             │\n",
       "└──────────────────────────┴─────────────────────────┘"
      ]
     },
     "execution_count": 19,
     "metadata": {},
     "output_type": "execute_result"
    }
   ],
   "source": [
    "df_category.head()"
   ]
  },
  {
   "cell_type": "code",
   "execution_count": 21,
   "metadata": {},
   "outputs": [
    {
     "data": {
      "text/plain": [
       "{'id': Utf8, 'gene': Utf8}"
      ]
     },
     "execution_count": 21,
     "metadata": {},
     "output_type": "execute_result"
    }
   ],
   "source": [
    "df_probe_select = df_probe.select(pl.col([\"id\", \"gene\"]))\n",
    "df_probe_select.schema"
   ]
  },
  {
   "cell_type": "code",
   "execution_count": 13,
   "metadata": {},
   "outputs": [
    {
     "ename": "TypeError",
     "evalue": "Expected 'other' join table to be a LazyFrame, not a DataFrame",
     "output_type": "error",
     "traceback": [
      "\u001b[0;31m---------------------------------------------------------------------------\u001b[0m",
      "\u001b[0;31mTypeError\u001b[0m                                 Traceback (most recent call last)",
      "Cell \u001b[0;32mIn[13], line 2\u001b[0m\n\u001b[1;32m      1\u001b[0m \u001b[39m## join TCGA tpm data with phenotype data\u001b[39;00m\n\u001b[0;32m----> 2\u001b[0m df_pl_tpm_pheno \u001b[39m=\u001b[39m (pl\u001b[39m.\u001b[39;49mscan_parquet(\u001b[39m\"\u001b[39;49m\u001b[39mfile_tpm_pqt.parquet\u001b[39;49m\u001b[39m\"\u001b[39;49m)\n\u001b[1;32m      3\u001b[0m                 \u001b[39m.\u001b[39;49mjoin(df_phenotype, left_on\u001b[39m=\u001b[39;49m\u001b[39m\"\u001b[39;49m\u001b[39mvariable\u001b[39;49m\u001b[39m\"\u001b[39;49m,right_on\u001b[39m=\u001b[39;49m\u001b[39m'\u001b[39;49m\u001b[39msample\u001b[39;49m\u001b[39m'\u001b[39;49m, how\u001b[39m=\u001b[39;49m\u001b[39m'\u001b[39;49m\u001b[39mleft\u001b[39;49m\u001b[39m'\u001b[39;49m)\n\u001b[1;32m      4\u001b[0m                 \u001b[39m.\u001b[39;49mjoin(df_probe_select, left_on\u001b[39m=\u001b[39;49m\u001b[39m\"\u001b[39;49m\u001b[39msample\u001b[39;49m\u001b[39m\"\u001b[39;49m,right_on\u001b[39m=\u001b[39;49m\u001b[39m'\u001b[39;49m\u001b[39mid\u001b[39;49m\u001b[39m'\u001b[39;49m, how\u001b[39m=\u001b[39;49m\u001b[39m'\u001b[39;49m\u001b[39mleft\u001b[39;49m\u001b[39m'\u001b[39;49m)\n\u001b[1;32m      5\u001b[0m                 \u001b[39m.\u001b[39msink_parquet(\u001b[39m\"\u001b[39m\u001b[39mfile_tpm_pheno_gene_pqt.parquet\u001b[39m\u001b[39m\"\u001b[39m))\n",
      "File \u001b[0;32m~/anaconda3/envs/dev_py310/lib/python3.10/site-packages/polars/lazyframe/frame.py:2955\u001b[0m, in \u001b[0;36mLazyFrame.join\u001b[0;34m(self, other, on, how, left_on, right_on, suffix, allow_parallel, force_parallel)\u001b[0m\n\u001b[1;32m   2856\u001b[0m \u001b[39m\u001b[39m\u001b[39m\"\"\"\u001b[39;00m\n\u001b[1;32m   2857\u001b[0m \u001b[39mAdd a join operation to the Logical Plan.\u001b[39;00m\n\u001b[1;32m   2858\u001b[0m \n\u001b[0;32m   (...)\u001b[0m\n\u001b[1;32m   2952\u001b[0m \n\u001b[1;32m   2953\u001b[0m \u001b[39m\"\"\"\u001b[39;00m\n\u001b[1;32m   2954\u001b[0m \u001b[39mif\u001b[39;00m \u001b[39mnot\u001b[39;00m \u001b[39misinstance\u001b[39m(other, LazyFrame):\n\u001b[0;32m-> 2955\u001b[0m     \u001b[39mraise\u001b[39;00m \u001b[39mTypeError\u001b[39;00m(\n\u001b[1;32m   2956\u001b[0m         \u001b[39mf\u001b[39m\u001b[39m\"\u001b[39m\u001b[39mExpected \u001b[39m\u001b[39m'\u001b[39m\u001b[39mother\u001b[39m\u001b[39m'\u001b[39m\u001b[39m join table to be a LazyFrame, not a \u001b[39m\u001b[39m{\u001b[39;00m\u001b[39mtype\u001b[39m(other)\u001b[39m.\u001b[39m\u001b[39m__name__\u001b[39m\u001b[39m}\u001b[39;00m\u001b[39m\"\u001b[39m\n\u001b[1;32m   2957\u001b[0m     )\n\u001b[1;32m   2959\u001b[0m \u001b[39mif\u001b[39;00m how \u001b[39m==\u001b[39m \u001b[39m\"\u001b[39m\u001b[39mcross\u001b[39m\u001b[39m\"\u001b[39m:\n\u001b[1;32m   2960\u001b[0m     \u001b[39mreturn\u001b[39;00m \u001b[39mself\u001b[39m\u001b[39m.\u001b[39m_from_pyldf(\n\u001b[1;32m   2961\u001b[0m         \u001b[39mself\u001b[39m\u001b[39m.\u001b[39m_ldf\u001b[39m.\u001b[39mjoin(\n\u001b[1;32m   2962\u001b[0m             other\u001b[39m.\u001b[39m_ldf, [], [], allow_parallel, force_parallel, how, suffix\n\u001b[1;32m   2963\u001b[0m         )\n\u001b[1;32m   2964\u001b[0m     )\n",
      "\u001b[0;31mTypeError\u001b[0m: Expected 'other' join table to be a LazyFrame, not a DataFrame"
     ]
    }
   ],
   "source": [
    "## join TCGA tpm data with phenotype data\n",
    "df_pl_tpm_pheno = (pl.scan_parquet(\"file_tpm_pqt.parquet\")\n",
    "                .join(df_phenotype, left_on=\"variable\",right_on='sample', how='left')\n",
    "                .sink_parquet(\"file_tpm_pheno_pqt.parquet\"))"
   ]
  },
  {
   "cell_type": "code",
   "execution_count": 10,
   "metadata": {},
   "outputs": [
    {
     "data": {
      "text/html": [
       "<div><style>\n",
       ".dataframe > thead > tr > th,\n",
       ".dataframe > tbody > tr > td {\n",
       "  text-align: right;\n",
       "}\n",
       "</style>\n",
       "<small>shape: (5, 9)</small><table border=\"1\" class=\"dataframe\"><thead><tr><th>sample</th><th>variable</th><th>tpm</th><th>detailed_category</th><th>primary disease or tissue</th><th>_primary_site</th><th>_sample_type</th><th>_gender</th><th>_study</th></tr><tr><td>str</td><td>str</td><td>f64</td><td>str</td><td>str</td><td>str</td><td>str</td><td>str</td><td>str</td></tr></thead><tbody><tr><td>&quot;ENSG0000024226…</td><td>&quot;GTEX-S4Q7-0003…</td><td>-3.458</td><td>&quot;Cells - Ebv-Tr…</td><td>&quot;Cells - Ebv-Tr…</td><td>&quot;Blood&quot;</td><td>&quot;Cell Line&quot;</td><td>&quot;Male&quot;</td><td>&quot;GTEX&quot;</td></tr><tr><td>&quot;ENSG0000025904…</td><td>&quot;GTEX-S4Q7-0003…</td><td>-9.9658</td><td>&quot;Cells - Ebv-Tr…</td><td>&quot;Cells - Ebv-Tr…</td><td>&quot;Blood&quot;</td><td>&quot;Cell Line&quot;</td><td>&quot;Male&quot;</td><td>&quot;GTEX&quot;</td></tr><tr><td>&quot;ENSG0000027011…</td><td>&quot;GTEX-S4Q7-0003…</td><td>-3.6259</td><td>&quot;Cells - Ebv-Tr…</td><td>&quot;Cells - Ebv-Tr…</td><td>&quot;Blood&quot;</td><td>&quot;Cell Line&quot;</td><td>&quot;Male&quot;</td><td>&quot;GTEX&quot;</td></tr><tr><td>&quot;ENSG0000016757…</td><td>&quot;GTEX-S4Q7-0003…</td><td>4.5988</td><td>&quot;Cells - Ebv-Tr…</td><td>&quot;Cells - Ebv-Tr…</td><td>&quot;Blood&quot;</td><td>&quot;Cell Line&quot;</td><td>&quot;Male&quot;</td><td>&quot;GTEX&quot;</td></tr><tr><td>&quot;ENSG0000027881…</td><td>&quot;GTEX-S4Q7-0003…</td><td>-9.9658</td><td>&quot;Cells - Ebv-Tr…</td><td>&quot;Cells - Ebv-Tr…</td><td>&quot;Blood&quot;</td><td>&quot;Cell Line&quot;</td><td>&quot;Male&quot;</td><td>&quot;GTEX&quot;</td></tr></tbody></table></div>"
      ],
      "text/plain": [
       "shape: (5, 9)\n",
       "┌─────────────┬────────────┬─────────┬────────────┬───┬────────────┬────────────┬─────────┬────────┐\n",
       "│ sample      ┆ variable   ┆ tpm     ┆ detailed_c ┆ … ┆ _primary_s ┆ _sample_ty ┆ _gender ┆ _study │\n",
       "│ ---         ┆ ---        ┆ ---     ┆ ategory    ┆   ┆ ite        ┆ pe         ┆ ---     ┆ ---    │\n",
       "│ str         ┆ str        ┆ f64     ┆ ---        ┆   ┆ ---        ┆ ---        ┆ str     ┆ str    │\n",
       "│             ┆            ┆         ┆ str        ┆   ┆ str        ┆ str        ┆         ┆        │\n",
       "╞═════════════╪════════════╪═════════╪════════════╪═══╪════════════╪════════════╪═════════╪════════╡\n",
       "│ ENSG0000024 ┆ GTEX-S4Q7- ┆ -3.458  ┆ Cells -    ┆ … ┆ Blood      ┆ Cell Line  ┆ Male    ┆ GTEX   │\n",
       "│ 2268.2      ┆ 0003-SM-3N ┆         ┆ Ebv-Transf ┆   ┆            ┆            ┆         ┆        │\n",
       "│             ┆ M8M        ┆         ┆ ormed      ┆   ┆            ┆            ┆         ┆        │\n",
       "│             ┆            ┆         ┆ Lymphocy…  ┆   ┆            ┆            ┆         ┆        │\n",
       "│ ENSG0000025 ┆ GTEX-S4Q7- ┆ -9.9658 ┆ Cells -    ┆ … ┆ Blood      ┆ Cell Line  ┆ Male    ┆ GTEX   │\n",
       "│ 9041.1      ┆ 0003-SM-3N ┆         ┆ Ebv-Transf ┆   ┆            ┆            ┆         ┆        │\n",
       "│             ┆ M8M        ┆         ┆ ormed      ┆   ┆            ┆            ┆         ┆        │\n",
       "│             ┆            ┆         ┆ Lymphocy…  ┆   ┆            ┆            ┆         ┆        │\n",
       "│ ENSG0000027 ┆ GTEX-S4Q7- ┆ -3.6259 ┆ Cells -    ┆ … ┆ Blood      ┆ Cell Line  ┆ Male    ┆ GTEX   │\n",
       "│ 0112.3      ┆ 0003-SM-3N ┆         ┆ Ebv-Transf ┆   ┆            ┆            ┆         ┆        │\n",
       "│             ┆ M8M        ┆         ┆ ormed      ┆   ┆            ┆            ┆         ┆        │\n",
       "│             ┆            ┆         ┆ Lymphocy…  ┆   ┆            ┆            ┆         ┆        │\n",
       "│ ENSG0000016 ┆ GTEX-S4Q7- ┆ 4.5988  ┆ Cells -    ┆ … ┆ Blood      ┆ Cell Line  ┆ Male    ┆ GTEX   │\n",
       "│ 7578.16     ┆ 0003-SM-3N ┆         ┆ Ebv-Transf ┆   ┆            ┆            ┆         ┆        │\n",
       "│             ┆ M8M        ┆         ┆ ormed      ┆   ┆            ┆            ┆         ┆        │\n",
       "│             ┆            ┆         ┆ Lymphocy…  ┆   ┆            ┆            ┆         ┆        │\n",
       "│ ENSG0000027 ┆ GTEX-S4Q7- ┆ -9.9658 ┆ Cells -    ┆ … ┆ Blood      ┆ Cell Line  ┆ Male    ┆ GTEX   │\n",
       "│ 8814.1      ┆ 0003-SM-3N ┆         ┆ Ebv-Transf ┆   ┆            ┆            ┆         ┆        │\n",
       "│             ┆ M8M        ┆         ┆ ormed      ┆   ┆            ┆            ┆         ┆        │\n",
       "│             ┆            ┆         ┆ Lymphocy…  ┆   ┆            ┆            ┆         ┆        │\n",
       "└─────────────┴────────────┴─────────┴────────────┴───┴────────────┴────────────┴─────────┴────────┘"
      ]
     },
     "execution_count": 10,
     "metadata": {},
     "output_type": "execute_result"
    }
   ],
   "source": [
    "df_parquet_tmp = pl.scan_parquet(\"file_tpm_pheno_pqt.parquet\").head()\n",
    "df_parquet_tmp.collect()"
   ]
  },
  {
   "cell_type": "code",
   "execution_count": 23,
   "metadata": {},
   "outputs": [],
   "source": [
    "# .join(df_probe_select, left_on=\"sample\",right_on='id', how='left')\n",
    "df_pl_tpm_pheno = (pl.scan_parquet(\"file_tpm_pheno_pqt.parquet\")\n",
    "                .join(df_probe_select.lazy(), left_on=\"sample\",right_on='id', how='left')\n",
    "                .sink_parquet(\"file_tpm_pheno_gene_pqt.parquet\"))"
   ]
  },
  {
   "cell_type": "code",
   "execution_count": 24,
   "metadata": {},
   "outputs": [
    {
     "data": {
      "text/html": [
       "<div><style>\n",
       ".dataframe > thead > tr > th,\n",
       ".dataframe > tbody > tr > td {\n",
       "  text-align: right;\n",
       "}\n",
       "</style>\n",
       "<small>shape: (5, 10)</small><table border=\"1\" class=\"dataframe\"><thead><tr><th>sample</th><th>variable</th><th>tpm</th><th>detailed_category</th><th>primary disease or tissue</th><th>_primary_site</th><th>_sample_type</th><th>_gender</th><th>_study</th><th>gene</th></tr><tr><td>str</td><td>str</td><td>f64</td><td>str</td><td>str</td><td>str</td><td>str</td><td>str</td><td>str</td><td>str</td></tr></thead><tbody><tr><td>&quot;ENSG0000024226…</td><td>&quot;GTEX-S4Q7-0003…</td><td>-3.458</td><td>&quot;Cells - Ebv-Tr…</td><td>&quot;Cells - Ebv-Tr…</td><td>&quot;Blood&quot;</td><td>&quot;Cell Line&quot;</td><td>&quot;Male&quot;</td><td>&quot;GTEX&quot;</td><td>&quot;RP11-368I23.2&quot;</td></tr><tr><td>&quot;ENSG0000025904…</td><td>&quot;GTEX-S4Q7-0003…</td><td>-9.9658</td><td>&quot;Cells - Ebv-Tr…</td><td>&quot;Cells - Ebv-Tr…</td><td>&quot;Blood&quot;</td><td>&quot;Cell Line&quot;</td><td>&quot;Male&quot;</td><td>&quot;GTEX&quot;</td><td>&quot;RP11-167B3.1&quot;</td></tr><tr><td>&quot;ENSG0000027011…</td><td>&quot;GTEX-S4Q7-0003…</td><td>-3.6259</td><td>&quot;Cells - Ebv-Tr…</td><td>&quot;Cells - Ebv-Tr…</td><td>&quot;Blood&quot;</td><td>&quot;Cell Line&quot;</td><td>&quot;Male&quot;</td><td>&quot;GTEX&quot;</td><td>&quot;RP11-742D12.2&quot;</td></tr><tr><td>&quot;ENSG0000016757…</td><td>&quot;GTEX-S4Q7-0003…</td><td>4.5988</td><td>&quot;Cells - Ebv-Tr…</td><td>&quot;Cells - Ebv-Tr…</td><td>&quot;Blood&quot;</td><td>&quot;Cell Line&quot;</td><td>&quot;Male&quot;</td><td>&quot;GTEX&quot;</td><td>&quot;RAB4B&quot;</td></tr><tr><td>&quot;ENSG0000027881…</td><td>&quot;GTEX-S4Q7-0003…</td><td>-9.9658</td><td>&quot;Cells - Ebv-Tr…</td><td>&quot;Cells - Ebv-Tr…</td><td>&quot;Blood&quot;</td><td>&quot;Cell Line&quot;</td><td>&quot;Male&quot;</td><td>&quot;GTEX&quot;</td><td>&quot;AC104071.1&quot;</td></tr></tbody></table></div>"
      ],
      "text/plain": [
       "shape: (5, 10)\n",
       "┌─────────────┬────────────┬─────────┬────────────┬───┬────────────┬─────────┬────────┬────────────┐\n",
       "│ sample      ┆ variable   ┆ tpm     ┆ detailed_c ┆ … ┆ _sample_ty ┆ _gender ┆ _study ┆ gene       │\n",
       "│ ---         ┆ ---        ┆ ---     ┆ ategory    ┆   ┆ pe         ┆ ---     ┆ ---    ┆ ---        │\n",
       "│ str         ┆ str        ┆ f64     ┆ ---        ┆   ┆ ---        ┆ str     ┆ str    ┆ str        │\n",
       "│             ┆            ┆         ┆ str        ┆   ┆ str        ┆         ┆        ┆            │\n",
       "╞═════════════╪════════════╪═════════╪════════════╪═══╪════════════╪═════════╪════════╪════════════╡\n",
       "│ ENSG0000024 ┆ GTEX-S4Q7- ┆ -3.458  ┆ Cells -    ┆ … ┆ Cell Line  ┆ Male    ┆ GTEX   ┆ RP11-368I2 │\n",
       "│ 2268.2      ┆ 0003-SM-3N ┆         ┆ Ebv-Transf ┆   ┆            ┆         ┆        ┆ 3.2        │\n",
       "│             ┆ M8M        ┆         ┆ ormed      ┆   ┆            ┆         ┆        ┆            │\n",
       "│             ┆            ┆         ┆ Lymphocy…  ┆   ┆            ┆         ┆        ┆            │\n",
       "│ ENSG0000025 ┆ GTEX-S4Q7- ┆ -9.9658 ┆ Cells -    ┆ … ┆ Cell Line  ┆ Male    ┆ GTEX   ┆ RP11-167B3 │\n",
       "│ 9041.1      ┆ 0003-SM-3N ┆         ┆ Ebv-Transf ┆   ┆            ┆         ┆        ┆ .1         │\n",
       "│             ┆ M8M        ┆         ┆ ormed      ┆   ┆            ┆         ┆        ┆            │\n",
       "│             ┆            ┆         ┆ Lymphocy…  ┆   ┆            ┆         ┆        ┆            │\n",
       "│ ENSG0000027 ┆ GTEX-S4Q7- ┆ -3.6259 ┆ Cells -    ┆ … ┆ Cell Line  ┆ Male    ┆ GTEX   ┆ RP11-742D1 │\n",
       "│ 0112.3      ┆ 0003-SM-3N ┆         ┆ Ebv-Transf ┆   ┆            ┆         ┆        ┆ 2.2        │\n",
       "│             ┆ M8M        ┆         ┆ ormed      ┆   ┆            ┆         ┆        ┆            │\n",
       "│             ┆            ┆         ┆ Lymphocy…  ┆   ┆            ┆         ┆        ┆            │\n",
       "│ ENSG0000016 ┆ GTEX-S4Q7- ┆ 4.5988  ┆ Cells -    ┆ … ┆ Cell Line  ┆ Male    ┆ GTEX   ┆ RAB4B      │\n",
       "│ 7578.16     ┆ 0003-SM-3N ┆         ┆ Ebv-Transf ┆   ┆            ┆         ┆        ┆            │\n",
       "│             ┆ M8M        ┆         ┆ ormed      ┆   ┆            ┆         ┆        ┆            │\n",
       "│             ┆            ┆         ┆ Lymphocy…  ┆   ┆            ┆         ┆        ┆            │\n",
       "│ ENSG0000027 ┆ GTEX-S4Q7- ┆ -9.9658 ┆ Cells -    ┆ … ┆ Cell Line  ┆ Male    ┆ GTEX   ┆ AC104071.1 │\n",
       "│ 8814.1      ┆ 0003-SM-3N ┆         ┆ Ebv-Transf ┆   ┆            ┆         ┆        ┆            │\n",
       "│             ┆ M8M        ┆         ┆ ormed      ┆   ┆            ┆         ┆        ┆            │\n",
       "│             ┆            ┆         ┆ Lymphocy…  ┆   ┆            ┆         ┆        ┆            │\n",
       "└─────────────┴────────────┴─────────┴────────────┴───┴────────────┴─────────┴────────┴────────────┘"
      ]
     },
     "execution_count": 24,
     "metadata": {},
     "output_type": "execute_result"
    }
   ],
   "source": [
    "df_parquet_tmp = pl.scan_parquet(\"file_tpm_pheno_gene_pqt.parquet\").head()\n",
    "df_parquet_tmp.collect()"
   ]
  },
  {
   "cell_type": "code",
   "execution_count": null,
   "metadata": {},
   "outputs": [],
   "source": []
  }
 ],
 "metadata": {
  "kernelspec": {
   "display_name": "dev_py39",
   "language": "python",
   "name": "python3"
  },
  "language_info": {
   "codemirror_mode": {
    "name": "ipython",
    "version": 3
   },
   "file_extension": ".py",
   "mimetype": "text/x-python",
   "name": "python",
   "nbconvert_exporter": "python",
   "pygments_lexer": "ipython3",
   "version": "3.10.10"
  },
  "orig_nbformat": 4
 },
 "nbformat": 4,
 "nbformat_minor": 2
}
