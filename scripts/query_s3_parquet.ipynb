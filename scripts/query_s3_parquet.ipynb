{
 "cells": [
  {
   "attachments": {},
   "cell_type": "markdown",
   "metadata": {},
   "source": [
    "#### Query the parquet file on s3 \n",
    "- It uses s3 select with specific SQL query\n",
    "- Doc: `https://boto3.amazonaws.com/v1/documentation/api/latest/reference/services/s3/client/select_object_content.html#`\n",
    "- Tutorial: `https://aws.amazon.com/blogs/storage/querying-data-without-servers-or-databases-using-amazon-s3-select/`"
   ]
  },
  {
   "cell_type": "code",
   "execution_count": 3,
   "metadata": {},
   "outputs": [],
   "source": [
    "## libraries\n",
    "\n",
    "import os\n",
    "# import boto3\n",
    "import duckdb"
   ]
  },
  {
   "attachments": {},
   "cell_type": "markdown",
   "metadata": {},
   "source": [
    "##### duckdb example"
   ]
  },
  {
   "cell_type": "code",
   "execution_count": 11,
   "metadata": {},
   "outputs": [],
   "source": [
    "## file\n",
    "input_file = '/home/ec2-user/projects/omics_analysis/scripts/file_tpm_pheno_gene_pqt.parquet'\n",
    "\n",
    "## query\n",
    "query = \"\"\"\n",
    "        SELECT * \n",
    "        FROM parquet_scan('{}')\n",
    "        LIMIT 10\n",
    "        \"\"\".format(input_file)\n",
    "\n",
    "\n",
    "query2 = \"\"\"\n",
    "        SELECT tpm, gene, _study, _primary_site\n",
    "        FROM parquet_scan('{}')\n",
    "        WHERE gene = 'STT3A' AND _study = 'GTEX'\n",
    "        \"\"\".format(input_file)\n",
    "        \n",
    "        \n"
   ]
  },
  {
   "cell_type": "code",
   "execution_count": 8,
   "metadata": {},
   "outputs": [
    {
     "name": "stdout",
     "output_type": "stream",
     "text": [
      "               sample                 variable     tpm  \\\n",
      "0   ENSG00000242268.2  GTEX-S4Q7-0003-SM-3NM8M -3.4580   \n",
      "1   ENSG00000259041.1  GTEX-S4Q7-0003-SM-3NM8M -9.9658   \n",
      "2   ENSG00000270112.3  GTEX-S4Q7-0003-SM-3NM8M -3.6259   \n",
      "3  ENSG00000167578.16  GTEX-S4Q7-0003-SM-3NM8M  4.5988   \n",
      "4   ENSG00000278814.1  GTEX-S4Q7-0003-SM-3NM8M -9.9658   \n",
      "5   ENSG00000078237.5  GTEX-S4Q7-0003-SM-3NM8M  2.2633   \n",
      "6   ENSG00000269416.5  GTEX-S4Q7-0003-SM-3NM8M -6.5064   \n",
      "7   ENSG00000263642.1  GTEX-S4Q7-0003-SM-3NM8M -9.9658   \n",
      "8  ENSG00000146083.11  GTEX-S4Q7-0003-SM-3NM8M  5.7811   \n",
      "9  ENSG00000158486.13  GTEX-S4Q7-0003-SM-3NM8M -4.2934   \n",
      "\n",
      "                     detailed_category            primary disease or tissue  \\\n",
      "0  Cells - Ebv-Transformed Lymphocytes  Cells - Ebv-Transformed Lymphocytes   \n",
      "1  Cells - Ebv-Transformed Lymphocytes  Cells - Ebv-Transformed Lymphocytes   \n",
      "2  Cells - Ebv-Transformed Lymphocytes  Cells - Ebv-Transformed Lymphocytes   \n",
      "3  Cells - Ebv-Transformed Lymphocytes  Cells - Ebv-Transformed Lymphocytes   \n",
      "4  Cells - Ebv-Transformed Lymphocytes  Cells - Ebv-Transformed Lymphocytes   \n",
      "5  Cells - Ebv-Transformed Lymphocytes  Cells - Ebv-Transformed Lymphocytes   \n",
      "6  Cells - Ebv-Transformed Lymphocytes  Cells - Ebv-Transformed Lymphocytes   \n",
      "7  Cells - Ebv-Transformed Lymphocytes  Cells - Ebv-Transformed Lymphocytes   \n",
      "8  Cells - Ebv-Transformed Lymphocytes  Cells - Ebv-Transformed Lymphocytes   \n",
      "9  Cells - Ebv-Transformed Lymphocytes  Cells - Ebv-Transformed Lymphocytes   \n",
      "\n",
      "  _primary_site _sample_type _gender _study           gene  \n",
      "0         Blood    Cell Line    Male   GTEX  RP11-368I23.2  \n",
      "1         Blood    Cell Line    Male   GTEX   RP11-167B3.1  \n",
      "2         Blood    Cell Line    Male   GTEX  RP11-742D12.2  \n",
      "3         Blood    Cell Line    Male   GTEX          RAB4B  \n",
      "4         Blood    Cell Line    Male   GTEX     AC104071.1  \n",
      "5         Blood    Cell Line    Male   GTEX          TIGAR  \n",
      "6         Blood    Cell Line    Male   GTEX      LINC01224  \n",
      "7         Blood    Cell Line    Male   GTEX        MIR4802  \n",
      "8         Blood    Cell Line    Male   GTEX          RNF44  \n",
      "9         Blood    Cell Line    Male   GTEX          DNAH3  \n"
     ]
    }
   ],
   "source": [
    "# connect to duckdb\n",
    "con = duckdb.connect(database=':memory:', read_only=False)\n",
    "\n",
    "# execute query\n",
    "df = con.execute(query).fetchdf()\n",
    "\n",
    "# print results\n",
    "print(df)"
   ]
  },
  {
   "cell_type": "code",
   "execution_count": 12,
   "metadata": {},
   "outputs": [
    {
     "name": "stdout",
     "output_type": "stream",
     "text": [
      "         tpm   gene _study _primary_site\n",
      "0     6.4975  STT3A   GTEX         Blood\n",
      "1     6.2952  STT3A   GTEX  Blood Vessel\n",
      "2     4.4263  STT3A   GTEX         Brain\n",
      "3     6.3733  STT3A   GTEX       Thyroid\n",
      "4     5.3664  STT3A   GTEX      Pancreas\n",
      "...      ...    ...    ...           ...\n",
      "7857  5.7632  STT3A   GTEX     Pituitary\n",
      "7858  5.9855  STT3A   GTEX     Esophagus\n",
      "7859  5.8278  STT3A   GTEX         Nerve\n",
      "7860  4.9942  STT3A   GTEX         Brain\n",
      "7861  6.8567  STT3A   GTEX          Lung\n",
      "\n",
      "[7862 rows x 4 columns]\n"
     ]
    }
   ],
   "source": [
    "## query2\n",
    "df2 = con.execute(query2).fetchdf()\n",
    "\n",
    "# print results\n",
    "print(df2)"
   ]
  },
  {
   "attachments": {},
   "cell_type": "markdown",
   "metadata": {},
   "source": [
    "##### s3 select example"
   ]
  },
  {
   "cell_type": "code",
   "execution_count": 6,
   "metadata": {},
   "outputs": [],
   "source": [
    "s3 = boto3.client('s3')\n",
    "\n",
    "resp = s3.select_object_content(\n",
    "    Bucket='biodata-omics-data',\n",
    "    Key='xena/processed/file_tpm_pheno_gene_pqt.parquet',\n",
    "    ExpressionType='SQL',\n",
    "    Expression=\"SELECT * FROM s3object s where s.\\\"Name\\\" = 'Jane'\",\n",
    "    InputSerialization = {'Parquet': {}},\n",
    "    OutputSerialization = {'CSV': {}},\n",
    ")"
   ]
  },
  {
   "cell_type": "code",
   "execution_count": 7,
   "metadata": {},
   "outputs": [
    {
     "ename": "EventStreamError",
     "evalue": "An error occurred (ParquetUnsupportedCompressionCodec) when calling the SelectObjectContent operation: Currently S3 Select does not support Parquet objects with ZSTD compression codec. Please see the API documentation for more details.",
     "output_type": "error",
     "traceback": [
      "\u001b[1;31m---------------------------------------------------------------------------\u001b[0m",
      "\u001b[1;31mEventStreamError\u001b[0m                          Traceback (most recent call last)",
      "\u001b[1;32m<ipython-input-7-6e6589ee29bc>\u001b[0m in \u001b[0;36m<module>\u001b[1;34m\u001b[0m\n\u001b[1;32m----> 1\u001b[1;33m \u001b[1;32mfor\u001b[0m \u001b[0mevent\u001b[0m \u001b[1;32min\u001b[0m \u001b[0mresp\u001b[0m\u001b[1;33m[\u001b[0m\u001b[1;34m'Payload'\u001b[0m\u001b[1;33m]\u001b[0m\u001b[1;33m:\u001b[0m\u001b[1;33m\u001b[0m\u001b[1;33m\u001b[0m\u001b[0m\n\u001b[0m\u001b[0;32m      2\u001b[0m     \u001b[1;32mif\u001b[0m \u001b[1;34m'Records'\u001b[0m \u001b[1;32min\u001b[0m \u001b[0mevent\u001b[0m\u001b[1;33m:\u001b[0m\u001b[1;33m\u001b[0m\u001b[1;33m\u001b[0m\u001b[0m\n\u001b[0;32m      3\u001b[0m         \u001b[0mrecords\u001b[0m \u001b[1;33m=\u001b[0m \u001b[0mevent\u001b[0m\u001b[1;33m[\u001b[0m\u001b[1;34m'Records'\u001b[0m\u001b[1;33m]\u001b[0m\u001b[1;33m[\u001b[0m\u001b[1;34m'Payload'\u001b[0m\u001b[1;33m]\u001b[0m\u001b[1;33m.\u001b[0m\u001b[0mdecode\u001b[0m\u001b[1;33m(\u001b[0m\u001b[1;34m'utf-8'\u001b[0m\u001b[1;33m)\u001b[0m\u001b[1;33m\u001b[0m\u001b[1;33m\u001b[0m\u001b[0m\n\u001b[0;32m      4\u001b[0m         \u001b[0mprint\u001b[0m\u001b[1;33m(\u001b[0m\u001b[0mrecords\u001b[0m\u001b[1;33m)\u001b[0m\u001b[1;33m\u001b[0m\u001b[1;33m\u001b[0m\u001b[0m\n\u001b[0;32m      5\u001b[0m     \u001b[1;32melif\u001b[0m \u001b[1;34m'Stats'\u001b[0m \u001b[1;32min\u001b[0m \u001b[0mevent\u001b[0m\u001b[1;33m:\u001b[0m\u001b[1;33m\u001b[0m\u001b[1;33m\u001b[0m\u001b[0m\n",
      "\u001b[1;32md:\\ProgramData\\Anaconda3\\envs\\dev_py39\\lib\\site-packages\\botocore\\eventstream.py\u001b[0m in \u001b[0;36m__iter__\u001b[1;34m(self)\u001b[0m\n\u001b[0;32m    601\u001b[0m     \u001b[1;32mdef\u001b[0m \u001b[0m__iter__\u001b[0m\u001b[1;33m(\u001b[0m\u001b[0mself\u001b[0m\u001b[1;33m)\u001b[0m\u001b[1;33m:\u001b[0m\u001b[1;33m\u001b[0m\u001b[1;33m\u001b[0m\u001b[0m\n\u001b[0;32m    602\u001b[0m         \u001b[1;32mfor\u001b[0m \u001b[0mevent\u001b[0m \u001b[1;32min\u001b[0m \u001b[0mself\u001b[0m\u001b[1;33m.\u001b[0m\u001b[0m_event_generator\u001b[0m\u001b[1;33m:\u001b[0m\u001b[1;33m\u001b[0m\u001b[1;33m\u001b[0m\u001b[0m\n\u001b[1;32m--> 603\u001b[1;33m             \u001b[0mparsed_event\u001b[0m \u001b[1;33m=\u001b[0m \u001b[0mself\u001b[0m\u001b[1;33m.\u001b[0m\u001b[0m_parse_event\u001b[0m\u001b[1;33m(\u001b[0m\u001b[0mevent\u001b[0m\u001b[1;33m)\u001b[0m\u001b[1;33m\u001b[0m\u001b[1;33m\u001b[0m\u001b[0m\n\u001b[0m\u001b[0;32m    604\u001b[0m             \u001b[1;32mif\u001b[0m \u001b[0mparsed_event\u001b[0m\u001b[1;33m:\u001b[0m\u001b[1;33m\u001b[0m\u001b[1;33m\u001b[0m\u001b[0m\n\u001b[0;32m    605\u001b[0m                 \u001b[1;32myield\u001b[0m \u001b[0mparsed_event\u001b[0m\u001b[1;33m\u001b[0m\u001b[1;33m\u001b[0m\u001b[0m\n",
      "\u001b[1;32md:\\ProgramData\\Anaconda3\\envs\\dev_py39\\lib\\site-packages\\botocore\\eventstream.py\u001b[0m in \u001b[0;36m_parse_event\u001b[1;34m(self, event)\u001b[0m\n\u001b[0;32m    617\u001b[0m             \u001b[1;32mreturn\u001b[0m \u001b[0mparsed_response\u001b[0m\u001b[1;33m\u001b[0m\u001b[1;33m\u001b[0m\u001b[0m\n\u001b[0;32m    618\u001b[0m         \u001b[1;32melse\u001b[0m\u001b[1;33m:\u001b[0m\u001b[1;33m\u001b[0m\u001b[1;33m\u001b[0m\u001b[0m\n\u001b[1;32m--> 619\u001b[1;33m             \u001b[1;32mraise\u001b[0m \u001b[0mEventStreamError\u001b[0m\u001b[1;33m(\u001b[0m\u001b[0mparsed_response\u001b[0m\u001b[1;33m,\u001b[0m \u001b[0mself\u001b[0m\u001b[1;33m.\u001b[0m\u001b[0m_operation_name\u001b[0m\u001b[1;33m)\u001b[0m\u001b[1;33m\u001b[0m\u001b[1;33m\u001b[0m\u001b[0m\n\u001b[0m\u001b[0;32m    620\u001b[0m \u001b[1;33m\u001b[0m\u001b[0m\n\u001b[0;32m    621\u001b[0m     \u001b[1;32mdef\u001b[0m \u001b[0mget_initial_response\u001b[0m\u001b[1;33m(\u001b[0m\u001b[0mself\u001b[0m\u001b[1;33m)\u001b[0m\u001b[1;33m:\u001b[0m\u001b[1;33m\u001b[0m\u001b[1;33m\u001b[0m\u001b[0m\n",
      "\u001b[1;31mEventStreamError\u001b[0m: An error occurred (ParquetUnsupportedCompressionCodec) when calling the SelectObjectContent operation: Currently S3 Select does not support Parquet objects with ZSTD compression codec. Please see the API documentation for more details."
     ]
    }
   ],
   "source": [
    "for event in resp['Payload']:\n",
    "    if 'Records' in event:\n",
    "        records = event['Records']['Payload'].decode('utf-8')\n",
    "        print(records)\n",
    "    elif 'Stats' in event:\n",
    "        statsDetails = event['Stats']['Details']\n",
    "        print(\"Stats details bytesScanned: \")\n",
    "        print(statsDetails['BytesScanned'])\n",
    "        print(\"Stats details bytesProcessed: \")\n",
    "        print(statsDetails['BytesProcessed'])\n",
    "        print(\"Stats details bytesReturned: \")\n",
    "        print(statsDetails['BytesReturned'])"
   ]
  },
  {
   "cell_type": "code",
   "execution_count": null,
   "metadata": {},
   "outputs": [],
   "source": []
  }
 ],
 "metadata": {
  "kernelspec": {
   "display_name": "dev_py39",
   "language": "python",
   "name": "python3"
  },
  "language_info": {
   "codemirror_mode": {
    "name": "ipython",
    "version": 3
   },
   "file_extension": ".py",
   "mimetype": "text/x-python",
   "name": "python",
   "nbconvert_exporter": "python",
   "pygments_lexer": "ipython3",
   "version": "3.10.10"
  },
  "orig_nbformat": 4
 },
 "nbformat": 4,
 "nbformat_minor": 2
}
